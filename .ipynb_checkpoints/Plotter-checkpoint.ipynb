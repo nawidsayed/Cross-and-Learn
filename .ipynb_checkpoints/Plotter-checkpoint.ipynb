{
 "cells": [
  {
   "cell_type": "code",
   "execution_count": 1,
   "metadata": {
    "collapsed": false
   },
   "outputs": [],
   "source": [
    "import numpy as np \n",
    "import matplotlib.pyplot as plt \n",
    "import _pickle as pickle\n",
    "import os\n",
    "\n",
    "\n",
    "\n"
   ]
  },
  {
   "cell_type": "code",
   "execution_count": 4,
   "metadata": {
    "collapsed": false
   },
   "outputs": [],
   "source": [
    "list_hist_testpred = []\n",
    "\n",
    "def plotter(directory, filename, label, mode=0):\n",
    "    picklename = filename + '.pkl'\n",
    "    with open(directory+picklename, 'rb') as f:\n",
    "        content = []\n",
    "        while True:\n",
    "            try:\n",
    "                content.append(pickle.load(f))\n",
    "            except EOFError:\n",
    "                break\n",
    "    # print(content)\n",
    "    result = np.array(content[mode])\n",
    "    plt.plot(result, label=label)\n",
    "    if mode == 0:\n",
    "        plt.yscale('log')\n",
    "\n",
    "directory = '../../results/cifar_[0][1]/disco/cifar_200_120_0.000200_0.000400_0.500000_cycle/'\n",
    "\n",
    "labels = None # ['no mask, no aug', 'with mask, no aug', 'no mask, with aug', 'with mask, with aug']\n",
    "i = 0\n",
    "for file in os.listdir(directory):\n",
    "    if file.endswith(\"train.pkl\") and file.startswith('resnet'):\n",
    "        if labels is not None:\n",
    "            label = labels[i]\n",
    "        else:\n",
    "            label = file[:-4]\n",
    "        plotter(directory, file[:-4],label , mode=2)\n",
    "        i += 1\n",
    "plt.legend()\n",
    "plt.show()"
   ]
  },
  {
   "cell_type": "code",
   "execution_count": 17,
   "metadata": {
    "collapsed": false
   },
   "outputs": [],
   "source": [
    "lom = []\n",
    "\n",
    "directory = '../../results/1.6.2017/'\n",
    "for file in os.listdir(directory):\n",
    "    if file.endswith(\"testpred.pkl\"):\n",
    "        with open(directory + file, 'rb') as f:\n",
    "            matrix = pickle.load(f)\n",
    "            lom.append(matrix)\n",
    "            \n",
    "mat = lom[1]\n",
    "\n"
   ]
  },
  {
   "cell_type": "code",
   "execution_count": 19,
   "metadata": {
    "collapsed": false
   },
   "outputs": [
    {
     "data": {
      "text/plain": [
       "array([ 6, 46,  0,  0,  6,  0, 10, 12,  6,  0, 45,  0, 46, 45, 12,  0,  6,\n",
       "       45,  0, 45,  6,  0, 46,  0, 45, 12,  0,  6,  0,  0,  0,  0, 46, 46,\n",
       "        0,  6,  2,  1,  1,  1,  1,  7, 45,  1,  7,  1,  1,  1, 15,  1,  1,\n",
       "        1,  7,  1,  1,  2,  1,  1,  1,  2,  1,  1,  1,  1,  1,  1,  1,  1,\n",
       "       42,  1,  1, 42,  1,  1,  1,  1,  1,  1,  1,  7,  1,  7,  1,  7,  7,\n",
       "        1,  1,  1,  1,  1,  7,  1,  1,  1,  7, 45,  2,  2, 42,  2, 10,  2,\n",
       "        2,  2,  2,  2,  2,  2,  2,  2,  2, 29, 17,  2,  2, 45, 10, 45,  6,\n",
       "        2,  2,  2,  2, 15,  2,  2,  2, 18, 45,  2,  2,  2,  2, 10, 40,  2,\n",
       "        2,  2,  6, 29,  2, 29, 29,  2,  2, 45,  2, 29, 40,  2,  2,  2, 46,\n",
       "        2,  7,  2, 29, 17, 18, 45,  2,  2, 46, 29,  2,  2,  6,  2,  2, 45,\n",
       "        2,  2,  7, 38, 45, 45,  2, 18,  7,  2,  2, 29,  6, 42,  2, 40,  2,\n",
       "       28,  7, 10,  2,  2, 17, 42,  9,  2, 40,  9,  2, 40,  2,  6, 45,  6,\n",
       "        1,  2,  2,  2,  2,  2, 37,  2,  0, 45,  2, 10,  6,  2, 45, 33,  2,\n",
       "        2, 10, 18, 12,  7, 40, 42,  2,  2, 42, 34, 46, 29, 12,  2, 12,  7,\n",
       "        2,  2,  2,  2, 29,  2,  2,  6, 12, 45,  3,  7,  2,  3,  3, 37,  3,\n",
       "        3,  7, 17,  3, 34,  3,  7, 38,  3, 17, 15,  7, 33, 17,  3,  3,  3,\n",
       "       17, 42,  7,  7, 34, 42,  3, 17,  4, 42, 17, 17, 45,  4, 45,  4,  4,\n",
       "       17, 27, 16,  4, 17,  4, 45,  4,  7,  4, 17, 22, 45,  4,  4, 27, 40,\n",
       "       27, 46,  4,  4,  7,  4,  4, 17,  7, 22,  4,  4,  5, 45,  5, 17, 17,\n",
       "        5,  5, 16, 40,  5,  5, 16,  5,  5,  5,  5, 10, 27,  4,  5,  7,  7,\n",
       "        5,  5,  7,  7,  5, 17,  5,  5,  5,  5,  5, 28,  5, 28,  5,  5,  5,\n",
       "        7,  5,  5,  5,  5, 45,  5, 17, 42,  5,  5,  5, 10, 27,  5,  5, 45,\n",
       "        6,  6,  6,  6, 45,  6,  6,  6,  6,  6,  6,  6,  6,  6,  6,  6,  6,\n",
       "        6,  6,  6,  6,  6,  6,  6,  6,  6,  6,  6,  6,  6,  6,  6,  6,  6,\n",
       "        6,  6,  6,  6,  6,  6,  6,  6,  6,  6,  6,  6,  6,  6, 40, 45,  6,\n",
       "        6,  6,  6,  6,  6,  6,  6,  6,  6,  6,  6,  6,  6,  6,  6,  6,  6,\n",
       "        6,  6,  6,  6,  6,  6,  6,  6,  6,  6,  6,  6,  6,  6,  6,  6,  6,\n",
       "        6,  6,  6,  6,  6,  6,  6,  6,  6,  6,  6,  6,  6,  6,  6,  6,  6,\n",
       "        6,  6,  6, 45,  6,  6,  6,  6,  6,  6,  6,  6,  6,  6,  6,  6,  6,\n",
       "        6,  6,  6,  6, 40,  6,  6,  6,  6,  6,  6,  6,  6,  6,  6,  6,  6,\n",
       "        6,  6,  6,  6,  6,  6,  6,  6,  6,  6,  6,  6,  6,  6,  6,  6,  6,\n",
       "        6,  6,  6,  6,  6,  6,  6,  6,  6,  6,  6,  6,  6,  6,  6,  6,  6,\n",
       "        6,  6, 45,  6,  6,  6,  6,  6,  6,  6,  6,  6,  6,  6,  6,  6,  6,\n",
       "        6,  6,  6,  6,  6,  6,  6,  6,  6,  6,  6,  6, 40,  6,  6,  6,  6,\n",
       "        6,  6,  6,  6,  6,  6, 45,  6,  6,  6,  6,  6,  6,  6,  6,  6,  6,\n",
       "        6,  6,  6,  6,  6,  6,  6,  6,  6,  6,  6,  6,  6,  6,  6,  6,  6,\n",
       "        6,  7,  7, 40,  7,  7,  7,  7,  7,  7,  7,  7,  7,  7,  7, 46, 41,\n",
       "       42, 46,  7,  7,  7, 46, 42,  7,  7,  7,  7,  7,  7,  7, 42,  7,  7,\n",
       "        7,  7,  7,  7,  7,  7,  7, 42, 27,  7,  7,  7,  7, 46,  7, 42,  7,\n",
       "        7,  7,  7,  7,  7,  7,  7,  7,  7, 42,  7, 42,  7,  7,  7,  7, 45,\n",
       "       46,  7, 42,  7,  7, 46,  7,  8,  8, 45,  6,  8,  8,  8,  8,  8,  8,\n",
       "        8,  8,  8,  8,  8,  8,  8,  8,  8,  8,  8,  8,  8,  8,  8,  8,  8,\n",
       "        8,  8,  8,  8,  8,  8,  8,  8,  8,  8,  8,  8,  8, 19,  8,  8,  8,\n",
       "        8,  8,  8,  8, 21,  8,  8,  6,  8,  8,  8,  8,  8,  8,  8,  8,  8,\n",
       "        8, 17,  8,  8,  8,  8,  9,  9,  9,  9,  9,  9,  7,  9,  9, 15, 15,\n",
       "        9, 28,  9,  9,  9, 34,  9,  9,  9,  9,  9,  9,  9, 15,  9,  7,  9,\n",
       "       45,  9,  9,  9,  9,  9, 27,  9,  9,  9,  9,  9,  9,  7,  9,  9, 42,\n",
       "        9,  9, 15,  9,  7,  9,  6,  9, 42,  9,  9,  9,  9,  9,  9,  9,  9,\n",
       "       42,  9, 34,  9,  9,  9,  9,  9,  9,  9, 21,  9,  9, 38,  9,  9,  9,\n",
       "        9,  9, 17, 42,  7, 42,  9,  9,  9, 38,  9,  9,  9,  9,  9,  9,  9,\n",
       "        9,  9,  9,  9,  9,  7,  9,  9,  9,  9, 42,  9,  9,  9,  9,  9,  9,\n",
       "        9,  9,  9, 15,  9,  9,  9,  9,  9, 42,  9, 42,  9, 10, 10, 10, 10,\n",
       "       10, 10, 10, 10, 10, 10, 10, 10, 10, 10, 39, 10, 10, 10, 10, 10, 10,\n",
       "       10, 10, 10, 10, 10, 10, 10, 10, 10, 10, 10, 10, 10, 10, 10, 10, 45,\n",
       "       10, 10, 10, 10, 10,  6, 40, 10, 10, 42, 10, 10, 10, 10, 10, 10, 10,\n",
       "       10, 10, 10, 10, 10, 10, 10, 10, 10, 42, 10, 10, 17, 10, 10, 10, 10,\n",
       "       10, 10, 10, 45, 10, 10, 10, 10, 10, 10, 10, 10, 10, 10, 10, 10,  7,\n",
       "       10, 10, 10, 10, 10, 10, 10, 10, 10, 10, 10, 10, 10, 10, 10,  9, 10,\n",
       "        6, 10, 10, 10, 10, 10, 10, 10, 10, 10, 17, 10, 10, 10])"
      ]
     },
     "execution_count": 19,
     "metadata": {},
     "output_type": "execute_result"
    }
   ],
   "source": [
    "mat[59,:1000]"
   ]
  },
  {
   "cell_type": "markdown",
   "metadata": {
    "collapsed": true
   },
   "source": [
    " plotter('0.000100_40_1_1_1')\n",
    "plt.show()"
   ]
  },
  {
   "cell_type": "code",
   "execution_count": 24,
   "metadata": {
    "collapsed": false
   },
   "outputs": [],
   "source": [
    "picklename = '0.001000_40_2_1_1.pkl'\n",
    "with open(picklename, 'rb') as f:\n",
    "    hist_loss = pickle.load(f)\n",
    "    hist_acc = pickle.load(f)\n",
    "    hist_err = pickle.load(f)\n",
    "    \n",
    "\n",
    "    "
   ]
  },
  {
   "cell_type": "code",
   "execution_count": null,
   "metadata": {
    "collapsed": false
   },
   "outputs": [],
   "source": []
  },
  {
   "cell_type": "code",
   "execution_count": null,
   "metadata": {
    "collapsed": false
   },
   "outputs": [],
   "source": []
  },
  {
   "cell_type": "code",
   "execution_count": null,
   "metadata": {
    "collapsed": true
   },
   "outputs": [],
   "source": []
  }
 ],
 "metadata": {
  "kernelspec": {
   "display_name": "Python 3",
   "language": "python",
   "name": "python3"
  },
  "language_info": {
   "codemirror_mode": {
    "name": "ipython",
    "version": 3
   },
   "file_extension": ".py",
   "mimetype": "text/x-python",
   "name": "python",
   "nbconvert_exporter": "python",
   "pygments_lexer": "ipython3",
   "version": "3.4.5"
  }
 },
 "nbformat": 4,
 "nbformat_minor": 0
}
