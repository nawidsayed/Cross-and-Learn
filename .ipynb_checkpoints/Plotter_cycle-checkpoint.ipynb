{
 "cells": [
  {
   "cell_type": "code",
   "execution_count": null,
   "metadata": {
    "collapsed": true
   },
   "outputs": [],
   "source": [
    "import numpy as np \n",
    "import matplotlib.pyplot as plt \n",
    "import _pickle as pickle\n",
    "import os"
   ]
  },
  {
   "cell_type": "code",
   "execution_count": null,
   "metadata": {
    "collapsed": true
   },
   "outputs": [],
   "source": [
    "list_hist_testpred = []\n",
    "\n",
    "def plotter(directory, filename, label, mode=0):\n",
    "    picklename = filename + '.pkl'\n",
    "    with open(directory+picklename, 'rb') as f:\n",
    "        content = []\n",
    "        while True:\n",
    "            try:\n",
    "                content.append(pickle.load(f))\n",
    "            except EOFError:\n",
    "                break\n",
    "    # print(content)\n",
    "    result = np.array(content[mode])\n",
    "    plt.plot(result, label=label)\n",
    "    if mode == 0:\n",
    "        plt.yscale('log')\n",
    "\n",
    "directory = '../../results/cifar_[0][1]/disco/cifar_200_120_0.000200_0.000400_0.500000_cycle/errors/'\n",
    "\n",
    "labels = None # ['no mask, no aug', 'with mask, no aug', 'no mask, with aug', 'with mask, with aug']\n",
    "i = 0\n",
    "for file in os.listdir(directory):\n",
    "    if file.endswith(\"train.pkl\") and file.startswith('resnet'):\n",
    "        if labels is not None:\n",
    "            label = labels[i]\n",
    "        else:\n",
    "            label = file[:-4]\n",
    "        plotter(directory, file[:-4],label , mode=2)\n",
    "        i += 1\n",
    "plt.legend()\n",
    "plt.show()"
   ]
  }
 ],
 "metadata": {
  "kernelspec": {
   "display_name": "Python 3",
   "language": "python",
   "name": "python3"
  },
  "language_info": {
   "codemirror_mode": {
    "name": "ipython",
    "version": 3
   },
   "file_extension": ".py",
   "mimetype": "text/x-python",
   "name": "python",
   "nbconvert_exporter": "python",
   "pygments_lexer": "ipython3",
   "version": "3.4.5"
  }
 },
 "nbformat": 4,
 "nbformat_minor": 0
}
